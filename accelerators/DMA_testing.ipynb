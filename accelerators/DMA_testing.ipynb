{
 "cells": [
  {
   "cell_type": "code",
   "execution_count": 9,
   "metadata": {
    "scrolled": true
   },
   "outputs": [],
   "source": [
    "from pynq import Overlay\n",
    "from pynq.lib import DMA\n",
    "from pynq import MMIO\n",
    "from pynq import Xlnk\n",
    "import numpy as np\n",
    "\n",
    "\n",
    "ol = Overlay(\"/home/xilinx/rosetta/design_1.bit\")\n",
    "ol.download()\n",
    "#print(ol.ip_dict)\n",
    "#dma_read_addr = ol.ip_dict[\"axi_dma_0\"][\"phys_addr\"]\n",
    "\n",
    "dma1 = ol.axi_dma_0\n",
    "dma2 = ol.axi_dma_2\n",
    "\n",
    "#dma3 = ol.axi_dma_2\n",
    "\n",
    "#dma_s = MMIO(dma_read_addr, 128)\n",
    "\n"
   ]
  },
  {
   "cell_type": "code",
   "execution_count": 10,
   "metadata": {},
   "outputs": [
    {
     "name": "stdout",
     "output_type": "stream",
     "text": [
      "(320, 240)\n",
      "Before dma.send took:  3.3251144886016846\n",
      "Rebuilding image took:  1.7529816627502441\n"
     ]
    }
   ],
   "source": [
    "from PIL import Image#, ImageFilter\n",
    "from time import time\n",
    "#Read image\n",
    "\n",
    "start = time()\n",
    "im = Image.open( '/home/xilinx/rosetta/image.jpg' ).resize((320,240))\n",
    "im.save(\"image_resized.png\", \"PNG\")\n",
    "out_data = []\n",
    "in_data = list(im.getdata())\n",
    "\n",
    "print(im.size)\n",
    "\n",
    "R, G, B = 0, 1, 2\n",
    "\n",
    "for pixel in in_data:\n",
    "    out_data.append(pixel[R])\n",
    "    out_data.append(pixel[G])\n",
    "    out_data.append(pixel[B])\n",
    "\n",
    "numberOfData = im.size[0]*im.size[1]*3\n",
    "numberOfDataBlur = (im.size[0]-2)*(im.size[1]-2)\n",
    "xlnk = Xlnk()\n",
    "\n",
    "gray1_in_buffer = xlnk.cma_array(shape=(numberOfData,))\n",
    "gray2_in_buffer = xlnk.cma_array(shape=(numberOfData,))\n",
    "\n",
    "blur_out_buffer = xlnk.cma_array(shape=(numberOfDataBlur,))\n",
    "gray2_out_buffer = xlnk.cma_array(shape=(numberOfData//3,))\n",
    "\n",
    "\n",
    "for i in range(0, numberOfData):\n",
    "    \n",
    "    gray2_in_buffer[i] = out_data[i]\n",
    "    #out1_buffer[i] = 0\n",
    "\n",
    "for i in range(0, numberOfData):#numberOfData//3):\n",
    "    #gray1_in_buffer[i] = int((in_data[i][R]*(0.3)+in_data[i][G]*(0.59)+in_data[i][B]*(0.11)))<<16\n",
    "    gray1_in_buffer[i] = out_data[i]\n",
    "\n",
    "end = time()\n",
    "print(\"Before dma.send took: \",end-start)\n",
    "\n",
    "\n",
    "dma1.sendchannel.transfer(gray1_in_buffer)\n",
    "dma1.recvchannel.transfer(blur_out_buffer)\n",
    "\n",
    "dma2.sendchannel.transfer(gray2_in_buffer)\n",
    "dma2.recvchannel.transfer(gray2_out_buffer)\n",
    "\n",
    "\n",
    "#dma1.sendchannel.wait()\n",
    "  \n",
    "start = time()\n",
    "\n",
    "blurim = Image.new(\"RGB\", (im.size[0]-2, im.size[1]-2))\n",
    "grayim = Image.new(\"RGB\", im.size)\n",
    "gray_data = []\n",
    "blur_data = []\n",
    "for i in range(0, numberOfDataBlur):\n",
    "    channel_blur = blur_out_buffer[i]#>>16 #+100 \n",
    "    #pixel = (out1_buffer[i]+70, out1_buffer[i]+70, out1_buffer[i]+70)\n",
    "    #data.append((out1_buffer[i]+50, out1_buffer[i]+50, out1_buffer[i]+50))\n",
    "    blur_data.append((channel_blur, channel_blur, channel_blur))\n",
    "    #if (i<320):\n",
    "    #    print((channel_blur, channel_blur, channel_blur))\n",
    "#print(\"==============================================\")\n",
    "for i in range(0, numberOfData//3):\n",
    "    channel_gray = gray2_out_buffer[i] #+100 \n",
    "    #pixel = (out1_buffer[i]+70, out1_buffer[i]+70, out1_buffer[i]+70)\n",
    "    #data.append((out1_buffer[i]+50, out1_buffer[i]+50, out1_buffer[i]+50))\n",
    "    \n",
    "    gray_data.append((channel_gray, channel_gray, channel_gray))\n",
    "    #if (i<320):\n",
    "    #    print((channel_gray,channel_gray,channel_gray))\n",
    "       \n",
    "\n",
    "    \n",
    "    \n",
    "blurim.putdata(blur_data)\n",
    "blurim.save('image_blurred.png', 'PNG')\n",
    "\n",
    "grayim.putdata(gray_data)\n",
    "grayim.save('image_grayscale.png', 'PNG')\n",
    "\n",
    "end = time()\n",
    "print(\"Rebuilding image took: \", end-start)\n",
    "\n",
    "gray1_in_buffer.close()\n",
    "gray2_in_buffer.close()\n",
    "blur_out_buffer.close()\n",
    "gray2_out_buffer.close()"
   ]
  },
  {
   "cell_type": "code",
   "execution_count": 16,
   "metadata": {},
   "outputs": [],
   "source": [
    "xlnk = Xlnk()\n",
    "in_buffer = xlnk.cma_array(shape=(numberOfData,))\n",
    "\n",
    "out1_buffer = xlnk.cma_array(shape=(numberOfData,), dtype=np.int32)#, dtype=np.int32)\n",
    "#out2_buffer = xlnk.cma_array(shape=(1000, ),dtype=np.int32)#, dtype=np.int32)\n",
    "#out3_buffer = xlnk.cma_array(shape=(1000,), dtype=np.int32)"
   ]
  },
  {
   "cell_type": "code",
   "execution_count": 17,
   "metadata": {},
   "outputs": [],
   "source": [
    "for i in range(0, numberOfData):\n",
    "    in_buffer[i] = out_data[i]\n",
    "    out1_buffer[i] = 0;\n",
    "    #out2_buffer[i] = 0;\n",
    "    #out3_buffer[i] = 0;\n",
    "\n",
    "#for i in range(0, 20):\n",
    "    #print(out1_buffer[i],\" <- out1, out2->\", out2_buffer[i])\n",
    "    \n"
   ]
  },
  {
   "cell_type": "code",
   "execution_count": null,
   "metadata": {},
   "outputs": [],
   "source": []
  },
  {
   "cell_type": "code",
   "execution_count": 18,
   "metadata": {},
   "outputs": [],
   "source": [
    "\n",
    "#dma1.sendchannel.transfer(in_buffer)\n",
    "#dma1.recvchannel.transfer(out1_buffer)\n",
    "\n",
    "\n",
    "#dma.sendchannel.transfer(in_buffer)\n",
    "#dma2.recvchannel.transfer(out2_buffer)\n",
    "#dma3.recvchannel.transfer(out3_buffer)\n",
    "#dma.sendchannel.wait()\n",
    "#dma.recvchannel.wait()\n",
    "\n"
   ]
  },
  {
   "cell_type": "code",
   "execution_count": null,
   "metadata": {},
   "outputs": [],
   "source": [
    "for i in range(2, len(out_data)):\n",
    "    #R, G, B, R, G ,B .... layout of the data in the 1d array\n",
    "    source[R].putpixel(())\n",
    "    \n",
    "    "
   ]
  },
  {
   "cell_type": "code",
   "execution_count": 2,
   "metadata": {},
   "outputs": [],
   "source": [
    "#for i in range(0, 20):\n",
    "    #print(in_buffer[i],\" <- in, out->\", bin(out_buffer[i]))\n",
    "#    print(\"from GS->\\t\",out1_buffer[i]>>8)#, \"\\nfrom dummy->\\t\", out2_buffer[i])\n",
    "\n",
    "#for i in range(0, 20):\n",
    "#    print(\"from Dilate->\\t\",out2_buffer[i])#, \"\\nfrom dummy->\\t\", out2_buffer[i])\n",
    "#for i in range(100, 120):\n",
    "#    print(\"from Gauss->\\t\",out3_buffer[i])#, \"\\nfrom dummy->\\t\", out2_buffer[i])"
   ]
  },
  {
   "cell_type": "code",
   "execution_count": 6,
   "metadata": {},
   "outputs": [],
   "source": [
    "#out1_buffer.close()\n",
    "#out2_buffer.close()\n",
    "#out3_buffer.close()"
   ]
  },
  {
   "cell_type": "code",
   "execution_count": 146,
   "metadata": {},
   "outputs": [
    {
     "data": {
      "text/plain": [
       "18.099999999999998"
      ]
     },
     "execution_count": 146,
     "metadata": {},
     "output_type": "execute_result"
    }
   ],
   "source": [
    "10*0.3 + 20*0.59 + 30*0.11"
   ]
  },
  {
   "cell_type": "code",
   "execution_count": 147,
   "metadata": {},
   "outputs": [
    {
     "data": {
      "text/plain": [
       "17.099999999999998"
      ]
     },
     "execution_count": 147,
     "metadata": {},
     "output_type": "execute_result"
    }
   ],
   "source": [
    "30*0.3 + 10*0.59 + 20*0.11"
   ]
  },
  {
   "cell_type": "code",
   "execution_count": 148,
   "metadata": {},
   "outputs": [
    {
     "data": {
      "text/plain": [
       "24.8"
      ]
     },
     "execution_count": 148,
     "metadata": {},
     "output_type": "execute_result"
    }
   ],
   "source": [
    "20*0.3 + 30*0.59 + 10*0.11"
   ]
  },
  {
   "cell_type": "code",
   "execution_count": 100,
   "metadata": {},
   "outputs": [
    {
     "data": {
      "text/plain": [
       "6553600"
      ]
     },
     "execution_count": 100,
     "metadata": {},
     "output_type": "execute_result"
    }
   ],
   "source": [
    "2560*2560"
   ]
  },
  {
   "cell_type": "code",
   "execution_count": 113,
   "metadata": {},
   "outputs": [
    {
     "data": {
      "text/plain": [
       "0.6103515625"
      ]
     },
     "execution_count": 113,
     "metadata": {},
     "output_type": "execute_result"
    }
   ],
   "source": [
    "(6553600)/2**30\n"
   ]
  },
  {
   "cell_type": "code",
   "execution_count": 117,
   "metadata": {},
   "outputs": [
    {
     "data": {
      "text/plain": [
       "'0b101000000000'"
      ]
     },
     "execution_count": 117,
     "metadata": {},
     "output_type": "execute_result"
    }
   ],
   "source": [
    "bin(2560>>8)\n",
    "bin(2560)"
   ]
  },
  {
   "cell_type": "code",
   "execution_count": 15,
   "metadata": {},
   "outputs": [
    {
     "data": {
      "text/plain": [
       "<matplotlib.image.AxesImage at 0xac5ae130>"
      ]
     },
     "execution_count": 15,
     "metadata": {},
     "output_type": "execute_result"
    }
   ],
   "source": [
    "\n",
    "\n",
    "#from scipy import ndimage\n",
    "#from scipy import misc\n",
    "#f = misc.face()\n",
    "#misc.imsave('face.png', f) # uses the Image module (PIL)\n",
    "\n",
    "#import matplotlib.pyplot as plt\n",
    "#plt.imshow(f)\n",
    "#plt.show()\n",
    "\n",
    "#image = open(\"/home/xilinx/rosetta/image.jpg\", \"rb\")\n",
    "#while(True):\n",
    " #   contents = image.readline()\n",
    "  #  print(contents)\n",
    "   # if contents == '':\n",
    "    #    break\n",
    "#image.close()"
   ]
  },
  {
   "cell_type": "code",
   "execution_count": 13,
   "metadata": {},
   "outputs": [],
   "source": [
    "image.close()"
   ]
  },
  {
   "cell_type": "code",
   "execution_count": 14,
   "metadata": {},
   "outputs": [
    {
     "data": {
      "text/plain": [
       "'0b1100001'"
      ]
     },
     "execution_count": 14,
     "metadata": {},
     "output_type": "execute_result"
    }
   ],
   "source": [
    "bin(97)"
   ]
  },
  {
   "cell_type": "code",
   "execution_count": 16,
   "metadata": {},
   "outputs": [
    {
     "data": {
      "text/plain": [
       "11.000022"
      ]
     },
     "execution_count": 16,
     "metadata": {},
     "output_type": "execute_result"
    }
   ],
   "source": [
    "0.077847*0  + 0.123317*1  + 0.077847*2 + 0.123317*10 + 0.195346*11 + 0.123317*12 + 0.077847*20 + 0.123317*21 + 0.077847*22 "
   ]
  },
  {
   "cell_type": "code",
   "execution_count": 17,
   "metadata": {},
   "outputs": [
    {
     "data": {
      "text/plain": [
       "12.136434"
      ]
     },
     "execution_count": 17,
     "metadata": {},
     "output_type": "execute_result"
    }
   ],
   "source": [
    "  0.077847*1  + 0.123317*2  + 0.123317*3+ 0.123317*11 + 0.195346*12 + 0.123317*13+ 0.077847*21 + 0.123317*22 + 0.077847*23 "
   ]
  },
  {
   "cell_type": "code",
   "execution_count": null,
   "metadata": {},
   "outputs": [],
   "source": []
  }
 ],
 "metadata": {
  "kernelspec": {
   "display_name": "Python 3",
   "language": "python",
   "name": "python3"
  },
  "language_info": {
   "codemirror_mode": {
    "name": "ipython",
    "version": 3
   },
   "file_extension": ".py",
   "mimetype": "text/x-python",
   "name": "python",
   "nbconvert_exporter": "python",
   "pygments_lexer": "ipython3",
   "version": "3.6.5"
  }
 },
 "nbformat": 4,
 "nbformat_minor": 2
}
