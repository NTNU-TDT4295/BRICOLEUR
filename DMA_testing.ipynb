{
 "cells": [
  {
   "cell_type": "code",
   "execution_count": 36,
   "metadata": {
    "scrolled": true
   },
   "outputs": [
    {
     "name": "stdout",
     "output_type": "stream",
     "text": [
      "{'axi_dma_0': {'phys_addr': 1077936128, 'addr_range': 65536, 'type': 'xilinx.com:ip:axi_dma:7.1', 'state': None, 'interrupts': {}, 'gpio': {}, 'fullpath': 'axi_dma_0', 'driver': <class 'pynq.lib.dma.DMA'>}, 'axi_dma_1': {'phys_addr': 1078001664, 'addr_range': 65536, 'type': 'xilinx.com:ip:axi_dma:7.1', 'state': None, 'interrupts': {}, 'gpio': {}, 'fullpath': 'axi_dma_1', 'driver': <class 'pynq.lib.dma.DMA'>}, 'axi_gpio_0': {'phys_addr': 1092616192, 'addr_range': 65536, 'type': 'xilinx.com:ip:axi_gpio:2.0', 'state': None, 'interrupts': {}, 'gpio': {}, 'fullpath': 'axi_gpio_0', 'driver': <class 'pynq.lib.axigpio.AxiGPIO'>}}\n"
     ]
    }
   ],
   "source": [
    "from pynq import Overlay\n",
    "from pynq.lib import DMA\n",
    "from pynq import MMIO\n",
    "from pynq import Xlnk\n",
    "import numpy as np\n",
    "\n",
    "#########REMEMBER TO TEST NEW .V FILES, SHOULD RUN EVEN IF VALID IS NOT ASSERTED\n",
    "\n",
    "\n",
    "ol = Overlay(\"/home/xilinx/rosetta/design_1.bit\")\n",
    "ol.download()\n",
    "print(ol.ip_dict)\n",
    "#dma_read_addr = ol.ip_dict[\"axi_dma_0\"][\"phys_addr\"]\n",
    "\n",
    "dma1 = ol.axi_dma_0\n",
    "dma2 = ol.axi_dma_1\n",
    "gpio=ol.axi_gpio_0\n",
    "#gpio?\n",
    "#dma3 = ol.axi_dma_2\n",
    "#dma1?\n",
    "#dma_s = MMIO(dma_read_addr, 128)\n",
    "\n",
    "iterationCount = 0"
   ]
  },
  {
   "cell_type": "code",
   "execution_count": 56,
   "metadata": {},
   "outputs": [
    {
     "name": "stdout",
     "output_type": "stream",
     "text": [
      "(320, 240)\n",
      "Before dma.send took:  2.364518880844116\n",
      "Iteration count is: 20\n",
      "Rebuilding image took:  0.7593095302581787\n"
     ]
    }
   ],
   "source": [
    "from PIL import Image#, ImageFilter\n",
    "from time import time\n",
    "#Read image\n",
    "\n",
    "start = time()\n",
    "im = Image.open( '/home/xilinx/rosetta/test_pattern.jpeg' ).resize((320,240))\n",
    "#im.save(\"image_resized.png\", \"PNG\")\n",
    "out_data = []\n",
    "in_data = list(im.getdata())\n",
    "\n",
    "print(im.size)\n",
    "\n",
    "R, G, B = 0, 1, 2\n",
    "\n",
    "for pixel in in_data:\n",
    "    out_data.append(pixel[R])\n",
    "    out_data.append(pixel[G])\n",
    "    out_data.append(pixel[B])\n",
    "\n",
    "numberOfData = im.size[0]*im.size[1]*3\n",
    "numberOfDataBlur = (im.size[0]-2)*(im.size[1]-2)\n",
    "#numberOfDataDilate = (im.size[0]-4)*(im.size[1]-4)\n",
    "xlnk = Xlnk()\n",
    "#help(xlnk)\n",
    "gray1_in_buffer = xlnk.cma_array(shape=(numberOfData,), dtype=np.uint32)\n",
    "gray2_in_buffer = xlnk.cma_array(shape=(numberOfData,), dtype=np.uint32)\n",
    "\n",
    "\n",
    "blur_out_buffer = xlnk.cma_array(shape=(numberOfDataBlur,), dtype=np.uint32)\n",
    "dilate_out_buffer = xlnk.cma_array(shape=(numberOfDataBlur,), dtype=np.uint32)\n",
    "#blur_out_buffer?\n",
    "\n",
    "#dilate_out_buffer = xlnk.cma_array(shape=(numberOfDataBlur,))\n",
    "\n",
    "\n",
    "#for i in range(0, numberOfData):\n",
    "    \n",
    "#    gray2_in_buffer[i] = out_data[i]\n",
    "    #out1_buffer[i] = 0\n",
    "\n",
    "for i in range(0, numberOfData):#numberOfData//3):\n",
    "    gray2_in_buffer[i] = out_data[i]\n",
    "    gray1_in_buffer[i] = out_data[i]\n",
    "\n",
    "end = time()\n",
    "print(\"Before dma.send took: \",end-start)\n",
    "\n",
    "\n",
    "dma1.sendchannel.transfer(gray1_in_buffer)\n",
    "dma1.recvchannel.transfer(blur_out_buffer)\n",
    "\n",
    "\n",
    "#dma1.sendchannel.wait()\n",
    "#dma1.recvchannel.wait()\n",
    "\n",
    "#dma2.sendchannel.transfer(gray2_in_buffer)\n",
    "#dma2.recvchannel.transfer(dilate_out_buffer)\n",
    "\n",
    "\n",
    "#dma1.sendchannel.wait()\n",
    "  \n",
    "start = time()\n",
    "\n",
    "blurim = Image.new(\"RGB\", (im.size[0]-2, im.size[1]-2))\n",
    "#dilateim = Image.new(\"RGB\", (im.size[0]-2, im.size[1]-2))\n",
    "#dilate_data = []\n",
    "blur_data = []\n",
    "for i in range(0, numberOfDataBlur):\n",
    "    channel_blur = blur_out_buffer[i] #+100 \n",
    "    #channel_dilate = dilate_out_buffer[i]\n",
    "    #pixel = (out1_buffer[i]+70, out1_buffer[i]+70, out1_buffer[i]+70)\n",
    "    #data.append((out1_buffer[i]+50, out1_buffer[i]+50, out1_buffer[i]+50))\n",
    "    blur_data.append((channel_blur, channel_blur, channel_blur))\n",
    "    #dilate_data.append((channel_dilate, channel_dilate, channel_dilate))\n",
    "    #if (i>((im.size[0]-2)*(im.size[1]-2)-20)):\n",
    "        #print((channel_blur, channel_blur, channel_blur))\n",
    "#print(\"==============================================\")\n",
    "#for i in range(0, numberOfDataBlur):\n",
    "#    channel_gray = dilate_out_buffer[i] #+100 \n",
    "    #pixel = (out1_buffer[i]+70, out1_buffer[i]+70, out1_buffer[i]+70)\n",
    "    #data.append((out1_buffer[i]+50, out1_buffer[i]+50, out1_buffer[i]+50))\n",
    "    \n",
    "#    dilate_data.append((channel_gray, channel_gray, channel_gray))\n",
    "    #if (i<320):\n",
    "    #    print((channel_gray,channel_gray,channel_gray))\n",
    "  \n",
    "\n",
    "\n",
    "    \n",
    "iterationCount +=1\n",
    "\n",
    "blurim.putdata(blur_data)\n",
    "blurim.save('image_blurred_'+str(iterationCount)+'.png', 'PNG')\n",
    "print(\"Iteration count is: \"+str(iterationCount))\n",
    "#dilateim.putdata(dilate_data)\n",
    "#dilateim.save('image_dilated.png', 'PNG')\n",
    "\n",
    "end = time()\n",
    "print(\"Rebuilding image took: \", end-start)\n",
    "\n",
    "gray1_in_buffer.close()\n",
    "gray2_in_buffer.close()\n",
    "blur_out_buffer.close()\n",
    "dilate_out_buffer.close()"
   ]
  },
  {
   "cell_type": "code",
   "execution_count": 34,
   "metadata": {},
   "outputs": [],
   "source": [
    "xlnk.xlnk_reset()\n",
    "#dma1.sendchannel.transfer(in_buffer)\n",
    "#dma1.recvchannel.transfer(out1_buffer)\n",
    "\n",
    "\n",
    "#dma.sendchannel.transfer(in_buffer)\n",
    "#dma2.recvchannel.transfer(out2_buffer)\n",
    "#dma3.recvchannel.transfer(out3_buffer)\n",
    "#dma.sendchannel.wait()\n",
    "#dma.recvchannel.wait()\n",
    "\n"
   ]
  },
  {
   "cell_type": "code",
   "execution_count": 10,
   "metadata": {},
   "outputs": [],
   "source": [
    "from pynq import GPIO\n",
    "from pynq import Overlay\n",
    "from pynq.lib import DMA\n",
    "from pynq import MMIO\n",
    "from pynq import Xlnk\n",
    "import numpy as np\n",
    "\n",
    "ol = Overlay(\"base.bit\")\n",
    "ol.download()\n",
    "ps_led = GPIO(GPIO.get_gpio_pin(0), 'out')\n"
   ]
  },
  {
   "cell_type": "code",
   "execution_count": 11,
   "metadata": {},
   "outputs": [],
   "source": [
    "\n",
    "ps_led.write(1)\n",
    "\n",
    "#from scipy import ndimage\n",
    "#from scipy import misc\n",
    "#f = misc.face()\n",
    "#misc.imsave('face.png', f) # uses the Image module (PIL)\n",
    "\n",
    "#import matplotlib.pyplot as plt\n",
    "#plt.imshow(f)\n",
    "#plt.show()\n",
    "\n",
    "#image = open(\"/home/xilinx/rosetta/image.jpg\", \"rb\")\n",
    "#while(True):\n",
    " #   contents = image.readline()\n",
    "  #  print(contents)\n",
    "   # if contents == '':\n",
    "    #    break\n",
    "#image.close()"
   ]
  },
  {
   "cell_type": "code",
   "execution_count": 13,
   "metadata": {},
   "outputs": [],
   "source": [
    "image.close()"
   ]
  },
  {
   "cell_type": "code",
   "execution_count": 41,
   "metadata": {},
   "outputs": [
    {
     "data": {
      "text/plain": [
       "76800"
      ]
     },
     "execution_count": 41,
     "metadata": {},
     "output_type": "execute_result"
    }
   ],
   "source": [
    "320*240"
   ]
  },
  {
   "cell_type": "code",
   "execution_count": 16,
   "metadata": {},
   "outputs": [
    {
     "data": {
      "text/plain": [
       "11.000022"
      ]
     },
     "execution_count": 16,
     "metadata": {},
     "output_type": "execute_result"
    }
   ],
   "source": [
    "0.077847*0  + 0.123317*1  + 0.077847*2 + 0.123317*10 + 0.195346*11 + 0.123317*12 + 0.077847*20 + 0.123317*21 + 0.077847*22 "
   ]
  },
  {
   "cell_type": "code",
   "execution_count": 17,
   "metadata": {},
   "outputs": [
    {
     "data": {
      "text/plain": [
       "12.136434"
      ]
     },
     "execution_count": 17,
     "metadata": {},
     "output_type": "execute_result"
    }
   ],
   "source": [
    "  0.077847*1  + 0.123317*2  + 0.123317*3+ 0.123317*11 + 0.195346*12 + 0.123317*13+ 0.077847*21 + 0.123317*22 + 0.077847*23 "
   ]
  },
  {
   "cell_type": "code",
   "execution_count": null,
   "metadata": {},
   "outputs": [],
   "source": []
  },
  {
   "cell_type": "code",
   "execution_count": null,
   "metadata": {},
   "outputs": [],
   "source": []
  }
 ],
 "metadata": {
  "kernelspec": {
   "display_name": "Python 3",
   "language": "python",
   "name": "python3"
  },
  "language_info": {
   "codemirror_mode": {
    "name": "ipython",
    "version": 3
   },
   "file_extension": ".py",
   "mimetype": "text/x-python",
   "name": "python",
   "nbconvert_exporter": "python",
   "pygments_lexer": "ipython3",
   "version": "3.6.5"
  }
 },
 "nbformat": 4,
 "nbformat_minor": 2
}
